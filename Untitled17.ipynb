{
  "nbformat": 4,
  "nbformat_minor": 0,
  "metadata": {
    "colab": {
      "provenance": [],
      "authorship_tag": "ABX9TyORMf+yb3d0bWjYdZed+eh5",
      "include_colab_link": true
    },
    "kernelspec": {
      "name": "python3",
      "display_name": "Python 3"
    },
    "language_info": {
      "name": "python"
    }
  },
  "cells": [
    {
      "cell_type": "markdown",
      "metadata": {
        "id": "view-in-github",
        "colab_type": "text"
      },
      "source": [
        "<a href=\"https://colab.research.google.com/github/tx540/Business-Analytics-With-Excel/blob/main/Untitled17.ipynb\" target=\"_parent\"><img src=\"https://colab.research.google.com/assets/colab-badge.svg\" alt=\"Open In Colab\"/></a>"
      ]
    },
    {
      "cell_type": "code",
      "execution_count": 8,
      "metadata": {
        "id": "Ck3lFsusZZeY"
      },
      "outputs": [],
      "source": [
        "x=[5,6,6,4,3,7,3,56,4,56]"
      ]
    },
    {
      "cell_type": "code",
      "source": [
        "def ABC(x):\n",
        " print(sum(x))\n",
        "\n"
      ],
      "metadata": {
        "id": "vf1GLa5oZk25"
      },
      "execution_count": 9,
      "outputs": []
    },
    {
      "cell_type": "code",
      "execution_count": 10,
      "metadata": {
        "id": "_zCXvXfKa3py",
        "outputId": "b59896ff-67ad-4a4e-d3ed-0e92c5752598",
        "colab": {
          "base_uri": "https://localhost:8080/"
        }
      },
      "outputs": [
        {
          "output_type": "stream",
          "name": "stdout",
          "text": [
            "150\n"
          ]
        }
      ],
      "source": [
        "ABC(x)"
      ]
    },
    {
      "cell_type": "code",
      "execution_count": 11,
      "metadata": {
        "id": "iRizugqwa0of"
      },
      "outputs": [],
      "source": [
        "def even():\n",
        "  x=[5,6,6,4,3,7,3,56,4,56]\n",
        "  e=[]\n",
        "  for x in x:\n",
        "    if x&2 == 0:\n",
        "      e.append(x)\n",
        "      print(e)"
      ]
    },
    {
      "cell_type": "code",
      "source": [
        "even()"
      ],
      "metadata": {
        "id": "RZM8TuDeieGV",
        "outputId": "c0d31793-7ab1-40fb-b69a-c28554cda09b",
        "colab": {
          "base_uri": "https://localhost:8080/"
        }
      },
      "execution_count": 12,
      "outputs": [
        {
          "output_type": "stream",
          "name": "stdout",
          "text": [
            "[5]\n",
            "[5, 4]\n",
            "[5, 4, 56]\n",
            "[5, 4, 56, 4]\n",
            "[5, 4, 56, 4, 56]\n"
          ]
        }
      ]
    },
    {
      "cell_type": "code",
      "source": [
        "def odd():\n",
        "  x=[5,6,6,4,3,7,3,56,4,56]\n",
        "  e=[]\n",
        "  for x in x:\n",
        "    if x%2 == 0:\n",
        "      e.append(x)\n",
        "      print(e)"
      ],
      "metadata": {
        "id": "uSGDpVQ-igxM"
      },
      "execution_count": 13,
      "outputs": []
    },
    {
      "cell_type": "code",
      "source": [
        "odd()"
      ],
      "metadata": {
        "id": "Uf3HBRbTjBgW",
        "outputId": "57474961-60f3-4218-a35e-29537ef80974",
        "colab": {
          "base_uri": "https://localhost:8080/"
        }
      },
      "execution_count": 14,
      "outputs": [
        {
          "output_type": "stream",
          "name": "stdout",
          "text": [
            "[6]\n",
            "[6, 6]\n",
            "[6, 6, 4]\n",
            "[6, 6, 4, 56]\n",
            "[6, 6, 4, 56, 4]\n",
            "[6, 6, 4, 56, 4, 56]\n"
          ]
        }
      ]
    },
    {
      "cell_type": "code",
      "source": [
        "import random\n",
        "char_list =['a','e','i','o','u']\n",
        "random.shuffle(char_list)\n",
        "print(''.join(char_list))"
      ],
      "metadata": {
        "id": "soLyInhpjD1k",
        "outputId": "c202b5b8-19c2-43b7-c15f-b9707d8c2a81",
        "colab": {
          "base_uri": "https://localhost:8080/"
        }
      },
      "execution_count": 16,
      "outputs": [
        {
          "output_type": "stream",
          "name": "stdout",
          "text": [
            "uieoa\n"
          ]
        }
      ]
    },
    {
      "cell_type": "code",
      "source": [
        "text=input(\"Enter the string \")\n",
        "vowels=['a','e','i','o','u','A','E','I','O','U']\n",
        "newtext= \"\"\n",
        "textlen=len(text)\n",
        "\n",
        "for i in range(textlen):\n",
        "  if text[i] not in vowels:\n",
        "    newtext=newtext + text[i]\n",
        "\n",
        "print(\"/nString after removing vowels:\")\n",
        "text = newtext\n",
        "print(text)    "
      ],
      "metadata": {
        "id": "MClvH_00lTIS",
        "outputId": "03542018-99ec-4b99-9d24-1a1be10370eb",
        "colab": {
          "base_uri": "https://localhost:8080/"
        }
      },
      "execution_count": 23,
      "outputs": [
        {
          "output_type": "stream",
          "name": "stdout",
          "text": [
            "Enter the string Thanks to the flexibility of Python and the powerful ecosystem of packages, the Azure CLI supports features such as autocompletion (in shells that support it), persistent credentials, JMESPath result parsing, lazy initialization, network-less unit tests, and more.\n",
            "/nString after removing vowels:\n",
            "Thnks t th flxblty f Pythn nd th pwrfl csystm f pckgs, th zr CL spprts ftrs sch s tcmpltn (n shlls tht spprt t), prsstnt crdntls, JMSPth rslt prsng, lzy ntlztn, ntwrk-lss nt tsts, nd mr.\n"
          ]
        }
      ]
    }
  ]
}