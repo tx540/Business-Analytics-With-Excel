{
  "nbformat": 4,
  "nbformat_minor": 0,
  "metadata": {
    "colab": {
      "provenance": [],
      "authorship_tag": "ABX9TyNVxjCwrZs9ScrQi4UuiIzY",
      "include_colab_link": true
    },
    "kernelspec": {
      "name": "python3",
      "display_name": "Python 3"
    },
    "language_info": {
      "name": "python"
    }
  },
  "cells": [
    {
      "cell_type": "markdown",
      "metadata": {
        "id": "view-in-github",
        "colab_type": "text"
      },
      "source": [
        "<a href=\"https://colab.research.google.com/github/tx540/Business-Analytics-With-Excel/blob/main/Untitled16.ipynb\" target=\"_parent\"><img src=\"https://colab.research.google.com/assets/colab-badge.svg\" alt=\"Open In Colab\"/></a>"
      ]
    },
    {
      "cell_type": "code",
      "execution_count": 2,
      "metadata": {
        "colab": {
          "base_uri": "https://localhost:8080/"
        },
        "id": "jIMJnAEnyRIi",
        "outputId": "cfdf098b-18e4-4bb7-ccd3-122fa6983ba9"
      },
      "outputs": [
        {
          "output_type": "stream",
          "name": "stdout",
          "text": [
            "\"Kathy\" Joseph Alexander\n"
          ]
        }
      ],
      "source": [
        "print(\"\\\"Kathy\\\" Joseph Alexander\")"
      ]
    },
    {
      "cell_type": "code",
      "source": [
        "print(\"He\\n Doctor\")"
      ],
      "metadata": {
        "colab": {
          "base_uri": "https://localhost:8080/"
        },
        "id": "x83gfWz30fZW",
        "outputId": "4e192828-8f96-433c-9e7c-d36cf4005419"
      },
      "execution_count": 4,
      "outputs": [
        {
          "output_type": "stream",
          "name": "stdout",
          "text": [
            "He\n",
            " Doctor\n"
          ]
        }
      ]
    },
    {
      "cell_type": "code",
      "source": [
        "print(\"Nidhin \\n Jayaprekash\")"
      ],
      "metadata": {
        "colab": {
          "base_uri": "https://localhost:8080/"
        },
        "id": "Hfdwntnu1ANc",
        "outputId": "beb817b8-56c0-43bf-b5d2-5e7ad5a7ca45"
      },
      "execution_count": 6,
      "outputs": [
        {
          "output_type": "stream",
          "name": "stdout",
          "text": [
            "Nidhin \n",
            " Jayaprekash\n"
          ]
        }
      ]
    },
    {
      "cell_type": "code",
      "source": [
        "x=10\n",
        "print(\"x.isdecimal()\")"
      ],
      "metadata": {
        "colab": {
          "base_uri": "https://localhost:8080/"
        },
        "id": "s5fT_IOZ1jjC",
        "outputId": "3cb6ccd7-e936-4976-d445-fee3a7d58677"
      },
      "execution_count": 8,
      "outputs": [
        {
          "output_type": "stream",
          "name": "stdout",
          "text": [
            "x.isdecimal()\n"
          ]
        }
      ]
    },
    {
      "cell_type": "code",
      "source": [
        "x = [\"John\" , \"Mary\" , \"David\" , \"Adam\"]\n",
        "x.insert(2,\"James\")\n",
        "print(x)"
      ],
      "metadata": {
        "colab": {
          "base_uri": "https://localhost:8080/"
        },
        "id": "5tSQywuA19bd",
        "outputId": "415ba0de-4038-494a-cd57-b08cdb76f9da"
      },
      "execution_count": 10,
      "outputs": [
        {
          "output_type": "stream",
          "name": "stdout",
          "text": [
            "['John', 'Mary', 'James', 'David', 'Adam']\n"
          ]
        }
      ]
    },
    {
      "cell_type": "code",
      "source": [
        "x=['A' , \"b\" , \"C\" , \"K\"]\n",
        "y=int(input(\"Enter Index\"))\n",
        "n=input(\"Enter a name\")\n",
        "x.insert(y,n)"
      ],
      "metadata": {
        "colab": {
          "base_uri": "https://localhost:8080/"
        },
        "id": "WSwu3Bz629Gt",
        "outputId": "5ba80069-4fd8-4ff2-ca17-430f3c5d1f11"
      },
      "execution_count": 12,
      "outputs": [
        {
          "name": "stdout",
          "output_type": "stream",
          "text": [
            "Enter Index5\n",
            "Enter a nameparvathi\n"
          ]
        }
      ]
    },
    {
      "cell_type": "code",
      "source": [
        "print(x)"
      ],
      "metadata": {
        "colab": {
          "base_uri": "https://localhost:8080/"
        },
        "id": "l4MKBj6a4732",
        "outputId": "6225e4ee-d3de-437d-b466-ba7c8880ccc1"
      },
      "execution_count": 13,
      "outputs": [
        {
          "output_type": "stream",
          "name": "stdout",
          "text": [
            "['A', 'b', 'C', 'K', 'parvathi']\n"
          ]
        }
      ]
    },
    {
      "cell_type": "code",
      "source": [
        "def tia():\n",
        "      y=int(input(\"Enter Index\"))\n",
        "      "
      ],
      "metadata": {
        "id": "esHkeiBA8uBo"
      },
      "execution_count": 15,
      "outputs": []
    },
    {
      "cell_type": "code",
      "source": [
        "tia()"
      ],
      "metadata": {
        "colab": {
          "base_uri": "https://localhost:8080/"
        },
        "id": "YOz6FWeY-dxM",
        "outputId": "803dd817-2b9c-4c50-f8c3-a71e63f4900e"
      },
      "execution_count": 16,
      "outputs": [
        {
          "name": "stdout",
          "output_type": "stream",
          "text": [
            "Enter Index6\n",
            "Enter a Nametia\n"
          ]
        }
      ]
    },
    {
      "cell_type": "code",
      "source": [],
      "metadata": {
        "id": "aBIZhZLs-kFb"
      },
      "execution_count": null,
      "outputs": []
    },
    {
      "cell_type": "code",
      "source": [
        "def maths():\n",
        "    x=int(input(\"enter first value\"))\n",
        "    y=int(input(\"enter second value\"))\n",
        "    maths(x,y)"
      ],
      "metadata": {
        "id": "P43m2dFOBWsn"
      },
      "execution_count": 19,
      "outputs": []
    },
    {
      "cell_type": "code",
      "source": [
        "def maths(a,b):\n",
        "   print(a+b)"
      ],
      "metadata": {
        "id": "VmHmMYUpEPCV"
      },
      "execution_count": 20,
      "outputs": []
    },
    {
      "cell_type": "code",
      "source": [
        "x=int(input(\"enter first value\"))\n",
        "y=int(input(\"enter second value\"))\n",
        "maths(x,y)\n",
        "\n"
      ],
      "metadata": {
        "colab": {
          "base_uri": "https://localhost:8080/"
        },
        "id": "WplXNpNPEXXy",
        "outputId": "187f0452-b66c-4d1b-bc2e-04da1b03a394"
      },
      "execution_count": 22,
      "outputs": [
        {
          "output_type": "stream",
          "name": "stdout",
          "text": [
            "enter first value6\n",
            "enter second value7\n",
            "13\n"
          ]
        }
      ]
    },
    {
      "cell_type": "code",
      "source": [],
      "metadata": {
        "id": "WxmLWQ4zG9cT"
      },
      "execution_count": null,
      "outputs": []
    }
  ]
}